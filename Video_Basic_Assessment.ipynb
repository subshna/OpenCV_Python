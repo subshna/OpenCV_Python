{
 "cells": [
  {
   "cell_type": "markdown",
   "metadata": {},
   "source": [
    "### Project Task\n",
    "#### You only have one task here. Create a program that reads in a live stream from a camera on your computer (or if you don't have a camera, just open up a video file). Then whenever you click the left mouse button down, create a blue circle around where you've clicked. Check out the video for an example of what the final project should look like"
   ]
  },
  {
   "cell_type": "code",
   "execution_count": 2,
   "metadata": {},
   "outputs": [],
   "source": [
    "import cv2"
   ]
  },
  {
   "cell_type": "code",
   "execution_count": 10,
   "metadata": {},
   "outputs": [],
   "source": [
    "# define an call back function to draw a circle\n",
    "def draw_circle(event, x, y, flags, param):\n",
    "    global center, clicked\n",
    "    \n",
    "    if event == cv2.EVENT_LBUTTONDOWN:\n",
    "        center = (x, y)\n",
    "        clicked = False\n",
    "            \n",
    "    if event == cv2.EVENT_LBUTTONUP:\n",
    "        clicked = True\n",
    "\n",
    "# global variables\n",
    "center = (0, 0)\n",
    "clicked = False\n",
    "\n",
    "# start video streaming\n",
    "cap = cv2.VideoCapture(0)\n",
    "\n",
    "# Connect to call back function draw_circle\n",
    "cv2.namedWindow('Window')\n",
    "cv2.setMouseCallback('Window', draw_circle)\n",
    "\n",
    "while True:\n",
    "    ret, frame = cap.read()\n",
    "       \n",
    "    # Draw the circle\n",
    "    if clicked:\n",
    "        cv2.circle(frame, center=center, radius=20, color=(255, 0, 0), thickness=2)\n",
    "        \n",
    "    # Display the frame\n",
    "    cv2.imshow('Window', frame)\n",
    "    \n",
    "    if cv2.waitKey(1) & 0xFF == ord('q'):\n",
    "        break\n",
    "        \n",
    "cap.release()\n",
    "cv2.destroyAllWindows()"
   ]
  },
  {
   "cell_type": "code",
   "execution_count": null,
   "metadata": {},
   "outputs": [],
   "source": []
  },
  {
   "cell_type": "code",
   "execution_count": null,
   "metadata": {},
   "outputs": [],
   "source": []
  }
 ],
 "metadata": {
  "kernelspec": {
   "display_name": "Python 2",
   "language": "python",
   "name": "python2"
  },
  "language_info": {
   "codemirror_mode": {
    "name": "ipython",
    "version": 2
   },
   "file_extension": ".py",
   "mimetype": "text/x-python",
   "name": "python",
   "nbconvert_exporter": "python",
   "pygments_lexer": "ipython2",
   "version": "2.7.12"
  }
 },
 "nbformat": 4,
 "nbformat_minor": 2
}
