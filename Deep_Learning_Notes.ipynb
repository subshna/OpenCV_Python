{
 "cells": [
  {
   "cell_type": "code",
   "execution_count": 1,
   "metadata": {},
   "outputs": [],
   "source": [
    "# Model Evalution\n",
    "# Accuracy\n",
    "# Recall\n",
    "# Precision\n",
    "# F1 Score"
   ]
  },
  {
   "cell_type": "code",
   "execution_count": 3,
   "metadata": {},
   "outputs": [],
   "source": [
    "# Deep Learning\n",
    "# Neural Networks\n",
    "# Perceptrons - z = wx + b\n",
    "# sigmoid function - f(x) = 1 / (1 + e(power(-x)))\n",
    "# Hyperbolic tanh(z) = cosh x = e(power(x)) + e(power(-x)) / 2\n",
    "#                      sinh x = e(power(x)) - e(power(-x)) / 2\n",
    "#                      tanh x = sinh x / cosh x\n",
    "# Rectified Linear Unit (ReLU) - max(0, z)"
   ]
  },
  {
   "cell_type": "code",
   "execution_count": null,
   "metadata": {},
   "outputs": [],
   "source": [
    "# cost functions\n",
    "# Quardratic Cost - C = sigma(y-a)squaare / n\n",
    "# Cross Entropy - C = (-1/n) sigma(y * log(a) + (1-y)* log(1-a))\n",
    "# Gradient Descent - finding the minimum of a function\n",
    "# Back Propogation - calculate the error contribution of each neuron after a batch of data si processed"
   ]
  }
 ],
 "metadata": {
  "kernelspec": {
   "display_name": "Python 2",
   "language": "python",
   "name": "python2"
  },
  "language_info": {
   "codemirror_mode": {
    "name": "ipython",
    "version": 2
   },
   "file_extension": ".py",
   "mimetype": "text/x-python",
   "name": "python",
   "nbconvert_exporter": "python",
   "pygments_lexer": "ipython2",
   "version": "2.7.12"
  }
 },
 "nbformat": 4,
 "nbformat_minor": 2
}
