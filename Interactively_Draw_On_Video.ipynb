{
 "cells": [
  {
   "cell_type": "code",
   "execution_count": 1,
   "metadata": {},
   "outputs": [],
   "source": [
    "import cv2"
   ]
  },
  {
   "cell_type": "code",
   "execution_count": 8,
   "metadata": {},
   "outputs": [],
   "source": [
    "# Define a call back function fro rectangle\n",
    "def draw_rectangle(event, x, y, flags, param):\n",
    "    global pt1, pt2, topLeft_clicked, botRight_clicked\n",
    "    \n",
    "    if event == cv2.EVENT_LBUTTONDOWN:\n",
    "        # Reset the rectangle\n",
    "        if topLeft_clicked == True and botRight_clicked == True:\n",
    "            pt1 = (0, 0)\n",
    "            pt2 = (0, 0)\n",
    "            topLeft_clicked = False\n",
    "            botRight_clicked = False\n",
    "            \n",
    "        if topLeft_clicked == False:\n",
    "            pt1 = (x, y)\n",
    "            topLeft_clicked = True\n",
    "        elif botRight_clicked == False:\n",
    "            pt2 = (x, y)\n",
    "            botRight_clicked = True\n",
    "            \n",
    "\n",
    "# Global Variables\n",
    "pt1 = (0, 0)\n",
    "pt2 = (0, 0)\n",
    "topLeft_clicked = False\n",
    "botRight_clicked = False\n",
    "\n",
    "# Start the video streaming\n",
    "cap = cv2.VideoCapture(0)\n",
    "\n",
    "# Connect to the call back\n",
    "cv2.namedWindow('Test')\n",
    "cv2.setMouseCallback('Test', draw_rectangle)\n",
    "\n",
    "while True:\n",
    "    ret, frame = cap.read()\n",
    "    \n",
    "    # Drawing on the frame based on the global variables\n",
    "    if topLeft_clicked:\n",
    "        cv2.circle(frame, center=pt1, radius=2, color=(0,0,255), thickness=-1)\n",
    "        \n",
    "    if topLeft_clicked and botRight_clicked:\n",
    "        cv2.rectangle(frame, pt1, pt2, (0,0,255), thickness=2)\n",
    "    \n",
    "    cv2.imshow('Test', frame)\n",
    "    \n",
    "    if cv2.waitKey(1) & 0xFF == ord('q'):\n",
    "        break\n",
    "        \n",
    "cap.release()\n",
    "cv2.destroyAllWindows()"
   ]
  },
  {
   "cell_type": "code",
   "execution_count": null,
   "metadata": {},
   "outputs": [],
   "source": []
  }
 ],
 "metadata": {
  "kernelspec": {
   "display_name": "Python 2",
   "language": "python",
   "name": "python2"
  },
  "language_info": {
   "codemirror_mode": {
    "name": "ipython",
    "version": 2
   },
   "file_extension": ".py",
   "mimetype": "text/x-python",
   "name": "python",
   "nbconvert_exporter": "python",
   "pygments_lexer": "ipython2",
   "version": "2.7.12"
  }
 },
 "nbformat": 4,
 "nbformat_minor": 2
}
